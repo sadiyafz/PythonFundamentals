{
 "cells": [
  {
   "cell_type": "code",
   "execution_count": 5,
   "id": "c39e125e",
   "metadata": {},
   "outputs": [
    {
     "name": "stdout",
     "output_type": "stream",
     "text": [
      "sadiya\n"
     ]
    }
   ],
   "source": [
    "# req: getting full name\n",
    "fname='sadiya'\n",
    "lname='fathima'\n",
    "print(fname)"
   ]
  },
  {
   "cell_type": "code",
   "execution_count": 6,
   "id": "5b3a10bc",
   "metadata": {},
   "outputs": [
    {
     "name": "stdout",
     "output_type": "stream",
     "text": [
      "fathima\n"
     ]
    }
   ],
   "source": [
    "print(lname)"
   ]
  },
  {
   "cell_type": "code",
   "execution_count": 12,
   "id": "15e1594c",
   "metadata": {},
   "outputs": [
    {
     "name": "stdout",
     "output_type": "stream",
     "text": [
      "sadiya fathima\n"
     ]
    }
   ],
   "source": [
    "full_name= f\"{fname} {lname}\"\n",
    "print(full_name)"
   ]
  },
  {
   "cell_type": "code",
   "execution_count": 39,
   "id": "5140775b",
   "metadata": {},
   "outputs": [
    {
     "name": "stdout",
     "output_type": "stream",
     "text": [
      "keep up, Sadiya Fathima\n"
     ]
    }
   ],
   "source": [
    "message= f\"keep up, {full_name.title()}\"\n",
    "print(message)\n",
    "   "
   ]
  },
  {
   "cell_type": "code",
   "execution_count": 20,
   "id": "4201e48f",
   "metadata": {},
   "outputs": [
    {
     "name": "stdout",
     "output_type": "stream",
     "text": [
      "fav_programming_language:pythonjavac\n"
     ]
    }
   ],
   "source": [
    "#\\n delimiter\n",
    "print(\"fav_programming_language:pythonjavac\")\n"
   ]
  },
  {
   "cell_type": "code",
   "execution_count": 21,
   "id": "cde2e3b6",
   "metadata": {},
   "outputs": [
    {
     "name": "stdout",
     "output_type": "stream",
     "text": [
      "fav_programming_language:\n",
      "python\n",
      "java\n",
      "c\n"
     ]
    }
   ],
   "source": [
    "print(\"fav_programming_language:\\npython\\njava\\nc\")"
   ]
  },
  {
   "cell_type": "code",
   "execution_count": 24,
   "id": "59df16ac",
   "metadata": {},
   "outputs": [
    {
     "name": "stdout",
     "output_type": "stream",
     "text": [
      "fav_programming_language:pythonjavac\n"
     ]
    }
   ],
   "source": [
    "#\\n\\t delimiter\n",
    "print(\"fav_programming_language:pythonjavac\")\n"
   ]
  },
  {
   "cell_type": "code",
   "execution_count": 25,
   "id": "3156cef8",
   "metadata": {},
   "outputs": [
    {
     "name": "stdout",
     "output_type": "stream",
     "text": [
      "fav_programming_language:\n",
      "\tpython\n",
      "\tjava\n",
      "\tc\n"
     ]
    }
   ],
   "source": [
    "print(\"fav_programming_language:\\n\\tpython\\n\\tjava\\n\\tc\")"
   ]
  },
  {
   "cell_type": "code",
   "execution_count": 26,
   "id": "c3071fbe",
   "metadata": {},
   "outputs": [],
   "source": [
    "#removing whitespaces from string"
   ]
  },
  {
   "cell_type": "code",
   "execution_count": 28,
   "id": "1563df71",
   "metadata": {},
   "outputs": [
    {
     "name": "stdout",
     "output_type": "stream",
     "text": [
      "python\n"
     ]
    }
   ],
   "source": [
    "name='python'\n",
    "print(name)"
   ]
  },
  {
   "cell_type": "code",
   "execution_count": 29,
   "id": "1ab08ba7",
   "metadata": {},
   "outputs": [
    {
     "name": "stdout",
     "output_type": "stream",
     "text": [
      "  python\n"
     ]
    }
   ],
   "source": [
    "name1='  python'\n",
    "print(name1)"
   ]
  },
  {
   "cell_type": "code",
   "execution_count": 30,
   "id": "77b3b684",
   "metadata": {},
   "outputs": [
    {
     "data": {
      "text/plain": [
       "'python'"
      ]
     },
     "execution_count": 30,
     "metadata": {},
     "output_type": "execute_result"
    }
   ],
   "source": [
    "name1.lstrip()"
   ]
  },
  {
   "cell_type": "code",
   "execution_count": 31,
   "id": "90b7e7fd",
   "metadata": {},
   "outputs": [
    {
     "name": "stdout",
     "output_type": "stream",
     "text": [
      "python   \n"
     ]
    }
   ],
   "source": [
    "name2='python   '\n",
    "print(name2)"
   ]
  },
  {
   "cell_type": "code",
   "execution_count": 32,
   "id": "3779d2ac",
   "metadata": {},
   "outputs": [
    {
     "data": {
      "text/plain": [
       "'python'"
      ]
     },
     "execution_count": 32,
     "metadata": {},
     "output_type": "execute_result"
    }
   ],
   "source": [
    "name2.rstrip()"
   ]
  },
  {
   "cell_type": "code",
   "execution_count": 33,
   "id": "a1e3d27e",
   "metadata": {},
   "outputs": [
    {
     "name": "stdout",
     "output_type": "stream",
     "text": [
      "  python   \n"
     ]
    }
   ],
   "source": [
    "name4='  python   '\n",
    "print(name4)"
   ]
  },
  {
   "cell_type": "code",
   "execution_count": 34,
   "id": "a5a4e4cb",
   "metadata": {},
   "outputs": [
    {
     "data": {
      "text/plain": [
       "'python'"
      ]
     },
     "execution_count": 34,
     "metadata": {},
     "output_type": "execute_result"
    }
   ],
   "source": [
    "name4.strip()"
   ]
  },
  {
   "cell_type": "code",
   "execution_count": 40,
   "id": "55c9e1f8",
   "metadata": {},
   "outputs": [],
   "source": [
    "# LIST\n",
    "students=['ravi','divya','sadiya','rkive']"
   ]
  },
  {
   "cell_type": "code",
   "execution_count": 41,
   "id": "bb3e249e",
   "metadata": {},
   "outputs": [
    {
     "data": {
      "text/plain": [
       "list"
      ]
     },
     "execution_count": 41,
     "metadata": {},
     "output_type": "execute_result"
    }
   ],
   "source": [
    "type(students)"
   ]
  },
  {
   "cell_type": "code",
   "execution_count": 42,
   "id": "695124d2",
   "metadata": {},
   "outputs": [
    {
     "name": "stdout",
     "output_type": "stream",
     "text": [
      "['ravi', 'divya', 'sadiya', 'rkive']\n"
     ]
    }
   ],
   "source": [
    "print(students)"
   ]
  },
  {
   "cell_type": "code",
   "execution_count": 44,
   "id": "966fca15",
   "metadata": {},
   "outputs": [
    {
     "name": "stdout",
     "output_type": "stream",
     "text": [
      "Divya\n"
     ]
    }
   ],
   "source": [
    "#req : get divya's name in output ---> indexing\n",
    "print(students[1].title())"
   ]
  },
  {
   "cell_type": "code",
   "execution_count": 46,
   "id": "8caaaff5",
   "metadata": {},
   "outputs": [],
   "source": [
    "# adding new student to the list\n",
    "\n",
    "#req: add anand on to the list\n",
    "students.append('anand')"
   ]
  },
  {
   "cell_type": "code",
   "execution_count": 47,
   "id": "1b95561b",
   "metadata": {},
   "outputs": [
    {
     "name": "stdout",
     "output_type": "stream",
     "text": [
      "['ravi', 'divya', 'sadiya', 'rkive', 'anand']\n"
     ]
    }
   ],
   "source": [
    "print(students)"
   ]
  },
  {
   "cell_type": "code",
   "execution_count": 48,
   "id": "8a577cee",
   "metadata": {},
   "outputs": [],
   "source": [
    "#add element to the custom position\n",
    "#req: add deepa to 2nd index position\n",
    "\n",
    "students.insert(2,'deepa')"
   ]
  },
  {
   "cell_type": "code",
   "execution_count": 50,
   "id": "2a96e613",
   "metadata": {},
   "outputs": [
    {
     "name": "stdout",
     "output_type": "stream",
     "text": [
      "['ravi', 'divya', 'deepa', 'sadiya', 'rkive', 'anand']\n"
     ]
    }
   ],
   "source": [
    "print(students)"
   ]
  },
  {
   "cell_type": "code",
   "execution_count": 51,
   "id": "4049b0ce",
   "metadata": {},
   "outputs": [
    {
     "name": "stdout",
     "output_type": "stream",
     "text": [
      "Deepa\n"
     ]
    }
   ],
   "source": [
    "print(students[2].title())"
   ]
  },
  {
   "cell_type": "code",
   "execution_count": 53,
   "id": "61b17e95",
   "metadata": {},
   "outputs": [],
   "source": [
    "#MODIFY\n",
    "\n",
    "#req: modify ravi to raju\n",
    "\n",
    "students[0]='raju'"
   ]
  },
  {
   "cell_type": "code",
   "execution_count": 54,
   "id": "153d21af",
   "metadata": {},
   "outputs": [
    {
     "name": "stdout",
     "output_type": "stream",
     "text": [
      "['raju', 'divya', 'deepa', 'sadiya', 'rkive', 'anand']\n"
     ]
    }
   ],
   "source": [
    "print(students)"
   ]
  },
  {
   "cell_type": "code",
   "execution_count": 56,
   "id": "36f38bf1",
   "metadata": {},
   "outputs": [],
   "source": [
    "#DELETE - permanent delete\n",
    "\n",
    "#req: delete deepa from list\n",
    "\n",
    "del students[2]"
   ]
  },
  {
   "cell_type": "code",
   "execution_count": 57,
   "id": "1359f772",
   "metadata": {},
   "outputs": [
    {
     "name": "stdout",
     "output_type": "stream",
     "text": [
      "['raju', 'divya', 'sadiya', 'rkive', 'anand']\n"
     ]
    }
   ],
   "source": [
    "print(students)"
   ]
  },
  {
   "cell_type": "code",
   "execution_count": 58,
   "id": "30288990",
   "metadata": {},
   "outputs": [],
   "source": [
    "#POP - temporary deletion\n",
    "x=students.pop()"
   ]
  },
  {
   "cell_type": "code",
   "execution_count": 59,
   "id": "cf755eaf",
   "metadata": {},
   "outputs": [
    {
     "name": "stdout",
     "output_type": "stream",
     "text": [
      "['raju', 'divya', 'sadiya', 'rkive']\n"
     ]
    }
   ],
   "source": [
    "print(students)"
   ]
  },
  {
   "cell_type": "code",
   "execution_count": 60,
   "id": "f213e0ab",
   "metadata": {},
   "outputs": [
    {
     "name": "stdout",
     "output_type": "stream",
     "text": [
      "anand\n"
     ]
    }
   ],
   "source": [
    "print(x)"
   ]
  },
  {
   "cell_type": "code",
   "execution_count": 61,
   "id": "55429828",
   "metadata": {},
   "outputs": [
    {
     "name": "stdout",
     "output_type": "stream",
     "text": [
      "['raju', 'divya', 'sadiya', 'rkive']\n"
     ]
    }
   ],
   "source": [
    "#negative indexing\n",
    "print(students)"
   ]
  },
  {
   "cell_type": "code",
   "execution_count": 62,
   "id": "4016ece3",
   "metadata": {},
   "outputs": [
    {
     "name": "stdout",
     "output_type": "stream",
     "text": [
      "rkive\n"
     ]
    }
   ],
   "source": [
    "print(students[-1])"
   ]
  },
  {
   "cell_type": "code",
   "execution_count": null,
   "id": "bb13c3fe",
   "metadata": {},
   "outputs": [],
   "source": []
  }
 ],
 "metadata": {
  "kernelspec": {
   "display_name": "Python 3 (ipykernel)",
   "language": "python",
   "name": "python3"
  },
  "language_info": {
   "codemirror_mode": {
    "name": "ipython",
    "version": 3
   },
   "file_extension": ".py",
   "mimetype": "text/x-python",
   "name": "python",
   "nbconvert_exporter": "python",
   "pygments_lexer": "ipython3",
   "version": "3.9.13"
  }
 },
 "nbformat": 4,
 "nbformat_minor": 5
}
