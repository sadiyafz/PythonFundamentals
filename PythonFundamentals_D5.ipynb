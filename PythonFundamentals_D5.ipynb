{
 "cells": [
  {
   "cell_type": "code",
   "execution_count": 1,
   "id": "db7a87aa",
   "metadata": {},
   "outputs": [],
   "source": [
    "#req: print the elements of the list in alpahbetical order\n",
    "\n",
    "cars=['kia','benz','bmw','maruthi','audi']"
   ]
  },
  {
   "cell_type": "code",
   "execution_count": 2,
   "id": "99b324d6",
   "metadata": {},
   "outputs": [
    {
     "name": "stdout",
     "output_type": "stream",
     "text": [
      "['kia', 'benz', 'bmw', 'maruthi', 'audi']\n"
     ]
    }
   ],
   "source": [
    "print(cars)"
   ]
  },
  {
   "cell_type": "code",
   "execution_count": 9,
   "id": "3ced336f",
   "metadata": {},
   "outputs": [
    {
     "data": {
      "text/plain": [
       "['audi', 'benz', 'bmw', 'kia', 'maruthi']"
      ]
     },
     "execution_count": 9,
     "metadata": {},
     "output_type": "execute_result"
    }
   ],
   "source": [
    "# in temporary approach\n",
    "sorted(cars)"
   ]
  },
  {
   "cell_type": "code",
   "execution_count": 12,
   "id": "3c00acdd",
   "metadata": {},
   "outputs": [
    {
     "name": "stdout",
     "output_type": "stream",
     "text": [
      "['kia', 'benz', 'bmw', 'maruthi', 'audi']\n"
     ]
    }
   ],
   "source": [
    "print(cars)"
   ]
  },
  {
   "cell_type": "code",
   "execution_count": 13,
   "id": "e3b8835a",
   "metadata": {},
   "outputs": [
    {
     "name": "stdout",
     "output_type": "stream",
     "text": [
      "['audi', 'benz', 'bmw', 'kia', 'maruthi']\n"
     ]
    }
   ],
   "source": [
    "print(sorted(cars))"
   ]
  },
  {
   "cell_type": "code",
   "execution_count": 18,
   "id": "56b3ac4f",
   "metadata": {},
   "outputs": [
    {
     "name": "stdout",
     "output_type": "stream",
     "text": [
      "['audi', 'benz', 'bmw', 'kia', 'maruthi']\n"
     ]
    }
   ],
   "source": [
    "# in permanent approach\n",
    "\n",
    "print(cars)"
   ]
  },
  {
   "cell_type": "code",
   "execution_count": 22,
   "id": "9d50e96e",
   "metadata": {},
   "outputs": [
    {
     "name": "stdout",
     "output_type": "stream",
     "text": [
      "['audi', 'benz', 'bmw', 'kia', 'maruthi']\n"
     ]
    }
   ],
   "source": [
    "cars.sort\n",
    "print(cars)"
   ]
  },
  {
   "cell_type": "code",
   "execution_count": 23,
   "id": "4f9cb7fb",
   "metadata": {},
   "outputs": [],
   "source": [
    "#req: print list in reverse order\n",
    "\n",
    "cars.reverse()"
   ]
  },
  {
   "cell_type": "code",
   "execution_count": 24,
   "id": "394486bc",
   "metadata": {},
   "outputs": [
    {
     "name": "stdout",
     "output_type": "stream",
     "text": [
      "['maruthi', 'kia', 'bmw', 'benz', 'audi']\n"
     ]
    }
   ],
   "source": [
    "print(cars)"
   ]
  },
  {
   "cell_type": "code",
   "execution_count": 25,
   "id": "c029e44f",
   "metadata": {},
   "outputs": [
    {
     "data": {
      "text/plain": [
       "5"
      ]
     },
     "execution_count": 25,
     "metadata": {},
     "output_type": "execute_result"
    }
   ],
   "source": [
    "#req: no. of elements \n",
    "len(cars)"
   ]
  },
  {
   "cell_type": "code",
   "execution_count": 27,
   "id": "5d8ac745",
   "metadata": {},
   "outputs": [],
   "source": [
    "# SLICING\n",
    "\n",
    "students=['trinadh','ali','david','rkive','agust','jk']"
   ]
  },
  {
   "cell_type": "code",
   "execution_count": 28,
   "id": "4f4f49bf",
   "metadata": {},
   "outputs": [
    {
     "name": "stdout",
     "output_type": "stream",
     "text": [
      "['trinadh', 'ali', 'david', 'rkive', 'agust', 'jk']\n"
     ]
    }
   ],
   "source": [
    "print(students)"
   ]
  },
  {
   "cell_type": "code",
   "execution_count": 29,
   "id": "45478d58",
   "metadata": {},
   "outputs": [
    {
     "name": "stdout",
     "output_type": "stream",
     "text": [
      "['trinadh', 'ali']\n"
     ]
    }
   ],
   "source": [
    "# req: have only trinadh and ali in o/p\n",
    "print(students[0:2])"
   ]
  },
  {
   "cell_type": "code",
   "execution_count": 30,
   "id": "abd5a1b4",
   "metadata": {},
   "outputs": [
    {
     "name": "stdout",
     "output_type": "stream",
     "text": [
      "['agust', 'jk']\n"
     ]
    }
   ],
   "source": [
    "# have only agust and jk in o/p\n",
    "print(students[4:6])"
   ]
  },
  {
   "cell_type": "code",
   "execution_count": 31,
   "id": "2a62d5af",
   "metadata": {},
   "outputs": [
    {
     "name": "stdout",
     "output_type": "stream",
     "text": [
      "['trinadh', 'david', 'agust']\n"
     ]
    }
   ],
   "source": [
    "#req: include alternate student in the o/p\n",
    "print(students[0:6:2])"
   ]
  },
  {
   "cell_type": "code",
   "execution_count": 35,
   "id": "38b9d22c",
   "metadata": {},
   "outputs": [
    {
     "name": "stdout",
     "output_type": "stream",
     "text": [
      "['trinadh', 'david']\n"
     ]
    }
   ],
   "source": [
    "print(students[0:4:2])"
   ]
  },
  {
   "cell_type": "code",
   "execution_count": null,
   "id": "26a471f3",
   "metadata": {},
   "outputs": [],
   "source": []
  }
 ],
 "metadata": {
  "kernelspec": {
   "display_name": "Python 3 (ipykernel)",
   "language": "python",
   "name": "python3"
  },
  "language_info": {
   "codemirror_mode": {
    "name": "ipython",
    "version": 3
   },
   "file_extension": ".py",
   "mimetype": "text/x-python",
   "name": "python",
   "nbconvert_exporter": "python",
   "pygments_lexer": "ipython3",
   "version": "3.9.13"
  }
 },
 "nbformat": 4,
 "nbformat_minor": 5
}
